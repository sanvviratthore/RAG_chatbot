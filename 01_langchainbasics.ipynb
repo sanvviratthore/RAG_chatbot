{
 "cells": [
  {
   "cell_type": "code",
   "execution_count": 1,
   "id": "28760034",
   "metadata": {},
   "outputs": [],
   "source": [
    "from langchain_ollama import ChatOllama\n",
    "\n",
    "base_url = \"http://localhost:11434\" #this is where Ollama is running\n",
    "model = \"gemma3:1b\"\n",
    "\n",
    "llm = ChatOllama(\n",
    "    base_url= base_url,\n",
    "    model=model,\n",
    "    temperature=0.7,\n",
    "    num_predict=100,\n",
    "    max_tokens=1000,)"
   ]
  },
  {
   "cell_type": "code",
   "execution_count": 4,
   "id": "ca951244",
   "metadata": {},
   "outputs": [
    {
     "name": "stdout",
     "output_type": "stream",
     "text": [
      "The capital of France is **Paris**. \n",
      "\n",
      "It’s a very popular question, and it’s easy to get it wrong! 😊 \n",
      "\n",
      "Do you want to know more about Paris?\n"
     ]
    }
   ],
   "source": [
    "response = llm.invoke(\"What is the capital of France?\")\n",
    "print(response.content)"
   ]
  },
  {
   "cell_type": "code",
   "execution_count": 5,
   "id": "2285c91e",
   "metadata": {},
   "outputs": [
    {
     "data": {
      "text/plain": [
       "{'model': 'gemma3:1b',\n",
       " 'created_at': '2025-05-31T08:16:55.0083081Z',\n",
       " 'done': True,\n",
       " 'done_reason': 'stop',\n",
       " 'total_duration': 2531078900,\n",
       " 'load_duration': 197972300,\n",
       " 'prompt_eval_count': 16,\n",
       " 'prompt_eval_duration': 66021000,\n",
       " 'eval_count': 41,\n",
       " 'eval_duration': 2263155400,\n",
       " 'model_name': 'gemma3:1b'}"
      ]
     },
     "execution_count": 5,
     "metadata": {},
     "output_type": "execute_result"
    }
   ],
   "source": [
    "response.response_metadata"
   ]
  }
 ],
 "metadata": {
  "kernelspec": {
   "display_name": ".venv",
   "language": "python",
   "name": "python3"
  },
  "language_info": {
   "codemirror_mode": {
    "name": "ipython",
    "version": 3
   },
   "file_extension": ".py",
   "mimetype": "text/x-python",
   "name": "python",
   "nbconvert_exporter": "python",
   "pygments_lexer": "ipython3",
   "version": "3.13.1"
  }
 },
 "nbformat": 4,
 "nbformat_minor": 5
}
