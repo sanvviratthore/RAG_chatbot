{
 "cells": [
  {
   "cell_type": "code",
   "execution_count": 1,
   "id": "6e91ad99",
   "metadata": {},
   "outputs": [],
   "source": [
    "from langchain_ollama import ChatOllama\n",
    "from langchain_core.prompts import(\n",
    "    SystemMessagePromptTemplate,\n",
    "    HumanMessagePromptTemplate,\n",
    "    PromptTemplate,\n",
    "    ChatPromptTemplate\n",
    ")\n",
    "\n",
    "base_url = \"http://localhost:11434\"\n",
    "model = 'gemma3:1b'\n",
    "\n",
    "llm = ChatOllama(base_url= base_url, model = model)"
   ]
  },
  {
   "cell_type": "code",
   "execution_count": 2,
   "metadata": {},
   "outputs": [
    {
     "name": "stdout",
     "output_type": "stream",
     "text": [
      "Response: Okay, here’s about the sun in 5 points, for you:\n",
      "\n",
      "1.  It’s a giant ball of hot gas.\n",
      "2.  It gives us light and warmth.\n",
      "3.  It’s really, really far away.\n",
      "4.  It shines constantly.\n",
      "5.  It’s the center of our solar system!\n"
     ]
    }
   ],
   "source": [
    "system = SystemMessagePromptTemplate.from_template(\"You are {school} teacher. You answer in short sentences.\")\n",
    "question = HumanMessagePromptTemplate.from_template(\"tell me about the {topics} in {points} points\")\n",
    "\n",
    "messages = [system, question]\n",
    "template = ChatPromptTemplate(messages)\n",
    "\n",
    "question = template.invoke({'school' : 'elementary', 'topics' : 'sun', 'points' : 5})\n",
    "\n",
    "response = llm.invoke(question)\n",
    "print(f\"Response: {response.content}\")"
   ]
  },
  {
   "cell_type": "code",
   "execution_count": 3,
   "id": "34799677",
   "metadata": {},
   "outputs": [],
   "source": [
    "system = SystemMessagePromptTemplate.from_template(\"You are {school} teacher. You answer in short sentences.\")\n",
    "question = HumanMessagePromptTemplate.from_template(\"tell me about the {topics} in {points} points\")\n",
    "\n",
    "messages = [system, question]\n",
    "template = ChatPromptTemplate(messages)\n",
    "\n",
    "chain = template | llm"
   ]
  },
  {
   "cell_type": "code",
   "execution_count": 4,
   "id": "af9f65ff",
   "metadata": {},
   "outputs": [
    {
     "name": "stdout",
     "output_type": "stream",
     "text": [
      "Okay, here’s about the sun in 5 points:\n",
      "\n",
      "1.  It’s a giant star!\n",
      "2.  It gives us warmth and light.\n",
      "3.  It’s really hot, but not alive.\n",
      "4.  It shines from way up high.\n",
      "5.  We live on Earth because of it!\n"
     ]
    }
   ],
   "source": [
    "response = chain.invoke({'school' : 'elementary', 'topics' : 'sun', 'points' : 5})\n",
    "print(response.content)"
   ]
  },
  {
   "cell_type": "code",
   "execution_count": 5,
   "id": "c73cd041",
   "metadata": {},
   "outputs": [
    {
     "name": "stdout",
     "output_type": "stream",
     "text": [
      "Okay, here’s about the sun in 5 points:\n",
      "\n",
      "1.  It’s a giant ball of hot gas.\n",
      "2.  It gives us light and warmth.\n",
      "3.  It’s really, really far away.\n",
      "4.  It burns fuel to shine.\n",
      "5.  It’s important for plants and us!\n"
     ]
    }
   ],
   "source": [
    "from langchain_core.output_parsers import StrOutputParser\n",
    "chain2 = template | llm | StrOutputParser()\n",
    "response = chain2.invoke({'school' : 'elementary', 'topics' : 'sun', 'points' : 5})\n",
    "print(response)"
   ]
  },
  {
   "cell_type": "code",
   "execution_count": null,
   "id": "aa4d8c65",
   "metadata": {},
   "outputs": [],
   "source": []
  },
  {
   "cell_type": "code",
   "execution_count": null,
   "id": "e8a90dcf",
   "metadata": {},
   "outputs": [],
   "source": []
  },
  {
   "cell_type": "code",
   "execution_count": null,
   "id": "4e45aca4",
   "metadata": {},
   "outputs": [],
   "source": []
  },
  {
   "cell_type": "code",
   "execution_count": null,
   "id": "100d070f",
   "metadata": {},
   "outputs": [],
   "source": []
  },
  {
   "cell_type": "code",
   "execution_count": null,
   "id": "78d8c1b1",
   "metadata": {},
   "outputs": [],
   "source": []
  }
 ],
 "metadata": {
  "kernelspec": {
   "display_name": ".venv",
   "language": "python",
   "name": "python3"
  },
  "language_info": {
   "codemirror_mode": {
    "name": "ipython",
    "version": 3
   },
   "file_extension": ".py",
   "mimetype": "text/x-python",
   "name": "python",
   "nbconvert_exporter": "python",
   "pygments_lexer": "ipython3",
   "version": "3.13.1"
  }
 },
 "nbformat": 4,
 "nbformat_minor": 5
}
