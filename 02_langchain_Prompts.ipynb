{
 "cells": [
  {
   "cell_type": "code",
   "execution_count": 4,
   "id": "df1450fa",
   "metadata": {},
   "outputs": [],
   "source": [
    "from langchain_ollama import ChatOllama\n",
    "\n",
    "base_url = \"http://localhost:11434\" #this is where Ollama is running\n",
    "model = \"gemma3:1b\"\n",
    "\n",
    "llm = ChatOllama(\n",
    "    base_url= base_url,\n",
    "    model=model,)"
   ]
  },
  {
   "cell_type": "code",
   "execution_count": 3,
   "id": "28139041",
   "metadata": {},
   "outputs": [
    {
     "name": "stdout",
     "output_type": "stream",
     "text": [
      "Question: tell me interesting facts about the moon\n",
      "Response: Okay, let’s dive into some fascinating facts about the Moon! It’s a surprisingly dynamic and ancient world. Here’s a breakdown of interesting tidbits, grouped for different categories:\n",
      "\n",
      "**1. Formation & History:**\n",
      "\n",
      "* **It's a captured object:** The Moon formed over 4.5 billion years ago from debris ejected into space after a massive impact – theia – from Mars. This impact is believed to be the cause of the Moon’s relatively small size and unusual composition.\n",
      "* **No true core:** Surprisingly, the Moon doesn't have a solid core like Earth. Instead, it’s primarily composed of silicate rocks and metals, but the core is believed to be a small, dense layer beneath the crust.\n",
      "* **Differentiation:** Over time, the Moon experienced intense differentiation – different materials formed in different parts, creating a layered structure, including the mantle, crust, and core.\n",
      "* **Ancient Volcanism:** Evidence suggests the Moon had active volcanoes in its early history, much like Earth. These volcanoes released gases that likely created the lunar maria (dark, basaltic plains).\n",
      "* **The \"Giant Impact\" Theory:** The leading theory suggests that the Moon formed from debris ejected during a massive collision between Earth and a Mars-sized object.\n",
      "\n",
      "\n",
      "**2. Physical Properties & Mysteries:**\n",
      "\n",
      "* **It's slowly shrinking:** The Moon is slowly losing its water, which is a major concern for long-term lunar exploration. The process is happening because of tidal forces from Earth.\n",
      "* **Crater Density:**  The Moon has a significantly higher density than Earth, largely due to its basaltic composition. This is due to a process called \"brecciation,\" where lava cools and contracts, creating a dense material.\n",
      "* **The Far Side is Darker:**  The far side of the Moon is perpetually dark because it's shielded from sunlight by the Earth and the sun. It receives less sunlight than the near side, making it colder.\n",
      "* **Lunar Dust is Surprisingly Sticky:** Lunar dust is incredibly fine and incredibly sticky. It can adhere to spacecraft, causing friction and requiring specialized handling. It can also create a hazy, persistent fog. \n",
      "* **Tidal Locking:** The Moon is tidally locked with Earth, meaning it always shows the same face to us. This is because of its orbital characteristics.\n",
      "\n",
      "\n",
      "**3. Unique & Unusual Facts:**\n",
      "\n",
      "* **It has a 'dark side':**  The far side of the Moon is almost entirely unlit by the sun. It receives very little sunlight, which creates a very cold and arid environment.\n",
      "* **It's constantly moving:** The Moon is moving through space – it’s drifting in an ellipse around Earth.\n",
      "* **It has a \"shadow\" effect:**  The Moon casts a shadow on Earth, and this shadow's pattern changes with the time of year and the Moon's position in the sky. It's a remarkably consistent and predictable pattern.\n",
      "* **Moonquakes:** The Moon experiences moonquakes, which are subtle tremors caused by shifts in stress within the lunar crust. Scientists are trying to understand their cause. \n",
      "* **It has a \"moon-core\":** There's evidence suggesting a small, liquid iron core within the Moon’s mantle, unlike Earth’s core.\n",
      "\n",
      "\n",
      "\n",
      "**4. Fun Facts & Mythology:**\n",
      "\n",
      "* **Lunar Cycles:** The Moon's phases are a result of the changing angles at which we see the sunlit side.\n",
      "* **Ancient Lunar Worship:** Throughout history, the Moon has been a central figure in many cultures' religions and mythologies, often associated with femininity, intuition, and cycles.\n",
      "* **It’s been a subject of fascination for humans for millennia:** From ancient Egyptians who used it for navigation to medieval astrologers, the Moon has always captured our imagination.\n",
      "\n",
      "\n",
      "**Resources for More Info:**\n",
      "\n",
      "* **NASA's Moon Facts:** [https://science.nasa.gov/moon/facts/](https://science.nasa.gov/moon/facts/)\n",
      "* **National Geographic - Moon:** [https://www.nationalgeographic.com/science/space/moon/](https://www.nationalgeographic.com/science/space/moon/)\n",
      "\n",
      "\n",
      "---\n",
      "\n",
      "To help me tailor the information to your interests, could you tell me:\n",
      "\n",
      "*   **What specifically are you curious about the Moon?** (e.g., its geology, history, space exploration, mythology?)\n"
     ]
    }
   ],
   "source": [
    "question = \"tell me interesting facts about the moon\"\n",
    "response = llm.invoke(question)\n",
    "print(f\"Question: {question}\")\n",
    "print(f\"Response: {response.content}\")"
   ]
  },
  {
   "cell_type": "code",
   "execution_count": 6,
   "id": "1aaddc7d",
   "metadata": {},
   "outputs": [
    {
     "name": "stdout",
     "output_type": "stream",
     "text": [
      "Question: tell me 3 interesting facts about the moon\n",
      "Response: Okay, let’s talk about the Moon! Here are 3 interesting facts that are a little surprising:\n",
      "\n",
      "1. **The Moon Makes its Own Light!**  It’s actually a bit like a giant lightbulb! The Moon doesn’t produce its own light, but it *reflects* sunlight.  Think of it like a mirror reflecting the sun's rays. That’s why we always see a dark, shiny surface when the Moon is full!\n",
      "\n",
      "2. **The Moon is Slowly Moving Away From Earth!**  It’s not spinning around like a top, but it’s slowly drifting away from us at a rate of about 1.5 inches (4 centimeters) per year! That's like one little bit of sand moving across the beach every day. \n",
      "\n",
      "3. **It Has a \"Dark Side\"!**  We often think of the Moon as just one side, but it actually has two!  One side is called the \"far side\" and it’s tilted more towards the Sun than the other side. This means it’s always getting a little bit warmer than the side we see!\n",
      "\n",
      "\n",
      "**Do you want to know more about any of these facts, or would you like to learn about something else?** \n",
      "\n",
      "\n"
     ]
    }
   ],
   "source": [
    "from langchain_core.messages import SystemMessage, HumanMessage\n",
    "question = HumanMessage(\"tell me 3 interesting facts about the moon\")\n",
    "system = SystemMessage(\"Explain such that a 5th grader can understand\")\n",
    "\n",
    "messages = [system, question]\n",
    "response = llm.invoke(messages)\n",
    "print(f\"Question: {question.content}\")\n",
    "print(f\"Response: {response.content}\")"
   ]
  },
  {
   "cell_type": "code",
   "execution_count": 7,
   "id": "def20b34",
   "metadata": {},
   "outputs": [
    {
     "name": "stdout",
     "output_type": "stream",
     "text": [
      "Question: tell me 3 interesting facts about the moon\n",
      "Response: Alright, let’s dive into some truly fascinating lunar facts. As PhD scholars, we’re always exploring the ‘why’ and ‘how’ – so let’s move beyond the basic observations and get into some deeper insights. Here are three interesting facts about the Moon that I think you’ll find compelling:\n",
      "\n",
      "1. **Moonquakes are surprisingly common – and incredibly subtle.** While we often think of the Moon as a completely static surface, seismic activity, known as moonquakes, actually occurs quite frequently. The most recent seismic event, ‘Mare Motacollis,’ was detected by the Lunar Reconnaissance Orbiter (LRO) and is thought to be a result of the Moon’s tidal flexing.  Unlike earthquakes on Earth, these moonquakes are incredibly low-amplitude, making them incredibly difficult to detect. They're thought to be caused by stress fractures within the lunar crust. It's a massive, ongoing process that’s reshaping the Moon!  Think about it – it’s like a geological whisper, constantly updating the surface.\n",
      "\n",
      "2. **The Moon's “Grey” Appearance is a Result of Water Ice.** The lunar surface, especially the permanently shadowed craters, appears grey. That’s because it’s incredibly dark, largely because it’s shielded from sunlight by a layer of water ice. This water ice isn’t just a little bit; it’s distributed throughout the lunar regolith – the loose, powdery material – creating a dark, reflective layer.  Scientists believe this ice plays a crucial role in regulating the Moon's temperature and, potentially, influences the long-term stability of the lunar surface.  It's a surprisingly complex and dynamic component.\n",
      "\n",
      "3. **Lunar Cratering History is *Really* Consistent.**  The Moon’s surface is littered with craters, and the study of these craters, using techniques like radar mapping, has revealed a remarkably consistent pattern of impact events.  The craters on the Moon’s surface show a specific, almost mathematical, distribution – they’re arranged in a way that suggests a past bombardment history.  Crucially, analysis shows that the impact rates have been remarkably stable over billions of years, indicating a continuous and deeply ingrained geological history. It’s a powerful testament to the Moon’s age and stability.\n",
      "\n",
      "\n",
      "Do you want me to delve deeper into any of these, or perhaps explore a specific aspect of lunar geology or history?  For example, are you interested in the evidence for ancient oceans, or the formation of maria?**\n"
     ]
    }
   ],
   "source": [
    "from langchain_core.messages import SystemMessage, HumanMessage\n",
    "question = HumanMessage(\"tell me 3 interesting facts about the moon\")\n",
    "system = SystemMessage(\"You are a phd scholar and the people you are explaining to are also phd experts\")\n",
    "\n",
    "messages = [system, question]\n",
    "response = llm.invoke(messages)\n",
    "print(f\"Question: {question.content}\")\n",
    "print(f\"Response: {response.content}\")"
   ]
  },
  {
   "cell_type": "code",
   "execution_count": 23,
   "id": "93956119",
   "metadata": {},
   "outputs": [],
   "source": [
    "from langchain_core.prompts import(\n",
    "    SystemMessagePromptTemplate,\n",
    "    HumanMessagePromptTemplate,\n",
    "    PromptTemplate,\n",
    "    ChatPromptTemplate\n",
    ")\n",
    "\n",
    "system = SystemMessagePromptTemplate.from_template(\"You are {school} teacher. You answer in short sentences.\")\n",
    "question = HumanMessagePromptTemplate.from_template(\"tell me about the {topics} in {points} points\")"
   ]
  },
  {
   "cell_type": "code",
   "execution_count": 9,
   "id": "6e41c65c",
   "metadata": {},
   "outputs": [
    {
     "name": "stdout",
     "output_type": "stream",
     "text": [
      "prompt=PromptTemplate(input_variables=['school'], input_types={}, partial_variables={}, template='You are {school} teacher. You answer in short sentences.') additional_kwargs={}\n",
      "prompt=PromptTemplate(input_variables=['points', 'topics'], input_types={}, partial_variables={}, template='tell me about the {topics} in {points} points') additional_kwargs={}\n"
     ]
    }
   ],
   "source": [
    "print(system)\n",
    "print(question)"
   ]
  },
  {
   "cell_type": "code",
   "execution_count": 10,
   "id": "f2cb5a0b",
   "metadata": {},
   "outputs": [
    {
     "data": {
      "text/plain": [
       "HumanMessage(content='tell me about the sun in 5 points', additional_kwargs={}, response_metadata={})"
      ]
     },
     "execution_count": 10,
     "metadata": {},
     "output_type": "execute_result"
    }
   ],
   "source": [
    "question.format(topics=\"sun\", points=5)\n"
   ]
  },
  {
   "cell_type": "code",
   "execution_count": 11,
   "id": "391c04b2",
   "metadata": {},
   "outputs": [
    {
     "data": {
      "text/plain": [
       "SystemMessage(content='You are elementary teacher. You answer in short sentences.', additional_kwargs={}, response_metadata={})"
      ]
     },
     "execution_count": 11,
     "metadata": {},
     "output_type": "execute_result"
    }
   ],
   "source": [
    "system.format(school='elementary')"
   ]
  },
  {
   "cell_type": "code",
   "execution_count": 24,
   "id": "2ecc72bb",
   "metadata": {},
   "outputs": [
    {
     "name": "stdout",
     "output_type": "stream",
     "text": [
      "input_variables=['points', 'school', 'topics'] input_types={} partial_variables={} messages=[SystemMessagePromptTemplate(prompt=PromptTemplate(input_variables=['school'], input_types={}, partial_variables={}, template='You are {school} teacher. You answer in short sentences.'), additional_kwargs={}), HumanMessagePromptTemplate(prompt=PromptTemplate(input_variables=['points', 'topics'], input_types={}, partial_variables={}, template='tell me about the {topics} in {points} points'), additional_kwargs={})]\n"
     ]
    }
   ],
   "source": [
    "messages = [system, question]\n",
    "template = ChatPromptTemplate(messages)\n",
    "print(template)"
   ]
  },
  {
   "cell_type": "code",
   "execution_count": 25,
   "id": "49673366",
   "metadata": {},
   "outputs": [
    {
     "name": "stdout",
     "output_type": "stream",
     "text": [
      "Response: Okay, let's talk about the sun!\n",
      "\n",
      "1.  It’s a giant ball of hot gas.\n",
      "2.  It gives us light and warmth.\n",
      "3.  It makes Earth live and grow.\n",
      "4.  It shines very brightly.\n",
      "5.  It’s really important for us!\n"
     ]
    }
   ],
   "source": [
    "question = template.invoke({'school' : 'elementary', 'topics' : 'sun', 'points' : 5})\n",
    "response = llm.invoke(question)\n",
    "print(f\"Response: {response.content}\")"
   ]
  }
 ],
 "metadata": {
  "kernelspec": {
   "display_name": ".venv",
   "language": "python",
   "name": "python3"
  },
  "language_info": {
   "codemirror_mode": {
    "name": "ipython",
    "version": 3
   },
   "file_extension": ".py",
   "mimetype": "text/x-python",
   "name": "python",
   "nbconvert_exporter": "python",
   "pygments_lexer": "ipython3",
   "version": "3.13.1"
  }
 },
 "nbformat": 4,
 "nbformat_minor": 5
}
